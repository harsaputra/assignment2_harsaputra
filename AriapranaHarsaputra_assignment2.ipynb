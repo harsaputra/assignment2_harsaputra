{
  "nbformat": 4,
  "nbformat_minor": 0,
  "metadata": {
    "colab": {
      "provenance": []
    },
    "kernelspec": {
      "name": "python3",
      "display_name": "Python 3"
    },
    "language_info": {
      "name": "python"
    }
  },
  "cells": [
    {
      "cell_type": "markdown",
      "source": [
        "# **Assignment 2**:\n",
        "1. Buatlah notebook file dengan format <nama_assignment2.ipynb> yang berisi sebuah function untuk :\n",
        "  * Mereturn angka disuatu posisi berdasarkan bilangan pertama dari sebuah daftar angka-angka.\n",
        "  * Urutan posisi dimulai dari bilangan kedua.\n",
        "  * Jika bilangan pertama melebihi jumlah banyaknya daftar angka-angka, maka return **-1**.\n",
        "  * Input : daftar angka\n",
        "\n",
        "| No | Input | Output |\n",
        "| - | - | - |\n",
        "| 1 | (3, 10, 20, 30, 40) | 40 |\n",
        "| 2 | (0, -10, 10)| -10 |\n",
        "| 3 | (1, 2, 300, 10) | 300 |\n",
        "| 4 | (100, 200, 300, -400) | -1 |\n",
        "| 5 | (4, 200, 300, -400) | -1 |"
      ],
      "metadata": {
        "id": "DfVU08gDS69S"
      }
    },
    {
      "cell_type": "code",
      "source": [
        "def angka(*n):\n",
        "    posisi = n[0]\n",
        "\n",
        "    if posisi >= len(n):\n",
        "      return -1\n",
        "    else :\n",
        "      return n[posisi+1]\n",
        "\n",
        "print(angka(3, 10, 20, 30, 40))\n",
        "print(angka(0, -10, 10))\n",
        "print(angka(1, 2, 300, 10))\n",
        "print(angka(100, 200, 300, -400))\n",
        "print(angka(4, 200, 300, -400))\n"
      ],
      "metadata": {
        "colab": {
          "base_uri": "https://localhost:8080/"
        },
        "id": "ArerOw68Vu6V",
        "outputId": "e8b293d2-b903-4910-9217-377ea01d0676"
      },
      "execution_count": 49,
      "outputs": [
        {
          "output_type": "stream",
          "name": "stdout",
          "text": [
            "40\n",
            "-10\n",
            "300\n",
            "-1\n",
            "-1\n"
          ]
        }
      ]
    },
    {
      "cell_type": "markdown",
      "source": [
        "2. Buat module Python bernama `rumus.py` yang berisi dua fungsi: satu untuk menghitung luas segitiga dan satu lagi untuk menghitung keliling segitiga. Gunakan module tersebut di notebook utama (pada soal no 1).\n",
        "\n",
        "Submit dilakukan dalam bentuk mengirimkan link github repository (public) ke google form."
      ],
      "metadata": {
        "id": "Do7ZumZfcvuB"
      }
    },
    {
      "cell_type": "code",
      "source": [
        "import rumus as r\n",
        "\n",
        "print(r.luas_segitiga(3, 4))\n",
        "print(r.keliling_segitiga_sama_sisi(3, 4))\n"
      ],
      "metadata": {
        "colab": {
          "base_uri": "https://localhost:8080/"
        },
        "id": "hW4xCuajccUx",
        "outputId": "6e5d8628-b4ac-4ff0-c326-d3c06861b2cf"
      },
      "execution_count": 6,
      "outputs": [
        {
          "output_type": "stream",
          "name": "stdout",
          "text": [
            "6.0\n",
            "11\n"
          ]
        }
      ]
    },
    {
      "cell_type": "code",
      "source": [],
      "metadata": {
        "id": "28Z3ez1NtUi5"
      },
      "execution_count": null,
      "outputs": []
    }
  ]
}